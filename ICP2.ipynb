{
 "cells": [
  {
   "cell_type": "code",
   "execution_count": 13,
   "id": "62a48972-96a9-4ba4-8387-191efb65746c",
   "metadata": {},
   "outputs": [
    {
     "name": "stdout",
     "output_type": "stream",
     "text": [
      "Name: dulquer salman, Family: salman Family, Salary: 580000, Department: Engineering\n",
      "Name: bheem kim, Family: kim Family, Salary: 670000, Department: Marketing\n",
      "Name: Alice Johnson, Family: Johnson Family, Salary: 670000, Department: Design, Benefits: Health Insurance\n",
      "Average Salary: $640000.00\n",
      "Total Number of Employees: 3\n"
     ]
    }
   ],
   "source": [
    "class Employee:\n",
    "    # Class variable to keep track of the number of employees\n",
    "    employee_count = 0\n",
    "    total_salary = 0\n",
    "    \n",
    "    def __init__(self, name, family, salary, department):\n",
    "        self.name = name\n",
    "        self.family = family\n",
    "        self.salary = salary\n",
    "        self.department = department\n",
    "        Employee.employee_count += 1\n",
    "        Employee.total_salary += salary\n",
    "    \n",
    "    @staticmethod\n",
    "    def average_salary():\n",
    "        if Employee.employee_count == 0:\n",
    "            return 0\n",
    "        return Employee.total_salary / Employee.employee_count\n",
    "    \n",
    "    def display_info(self):\n",
    "        return f\"Name: {self.name}, Family: {self.family}, Salary: {self.salary}, Department: {self.department}\"\n",
    "\n",
    "\n",
    "class FulltimeEmployee(Employee):\n",
    "    def __init__(self, name, family, salary, department, benefits):\n",
    "        super().__init__(name, family, salary, department)\n",
    "        self.benefits = benefits\n",
    "    \n",
    "    def display_info(self):\n",
    "        basic_info = super().display_info()\n",
    "        return f\"{basic_info}, Benefits: {self.benefits}\"\n",
    "\n",
    "\n",
    "# Creating instances of Employee and FulltimeEmployee\n",
    "emp1 = Employee(\"dulquer salman\", \"salman Family\", 580000, \"Engineering\")\n",
    "emp2 = Employee(\"bheem kim\", \"kim Family\", 670000, \"Marketing\")\n",
    "\n",
    "fulltime_emp1 = FulltimeEmployee(\"Alice Johnson\", \"Johnson Family\", 670000, \"Design\", \"Health Insurance\")\n",
    "\n",
    "# Displaying employee information\n",
    "print(emp1.display_info())\n",
    "print(emp2.display_info())\n",
    "print(fulltime_emp1.display_info())\n",
    "\n",
    "# Calculating and displaying the average salary\n",
    "print(f\"Average Salary: ${Employee.average_salary():.2f}\")\n",
    "\n",
    "# Display the total number of employees\n",
    "print(f\"Total Number of Employees: {Employee.employee_count}\")\n"
   ]
  },
  {
   "cell_type": "code",
   "execution_count": 15,
   "id": "aa5cd754-30f1-41ad-9ea6-3da4c08df79f",
   "metadata": {},
   "outputs": [
    {
     "name": "stdout",
     "output_type": "stream",
     "text": [
      "Original Matrix:\n",
      " [[ 2.52130222  4.43218392  2.46095454 13.27738095 13.7236199 ]\n",
      " [18.01942264 11.24905276  5.44297275  4.94171971 16.54301944]\n",
      " [ 9.86236494  1.5520873  13.15034356 13.35127859 15.87764277]\n",
      " [ 1.62082114  4.53887017  8.63530883  4.51587228 14.95167714]]\n",
      "Result Matrix (with max values replaced by 0):\n",
      " [[ 2.52130222  4.43218392  2.46095454 13.27738095  0.        ]\n",
      " [ 0.         11.24905276  5.44297275  4.94171971 16.54301944]\n",
      " [ 9.86236494  1.5520873  13.15034356 13.35127859  0.        ]\n",
      " [ 1.62082114  4.53887017  8.63530883  4.51587228  0.        ]]\n"
     ]
    }
   ],
   "source": [
    "import numpy as np\n",
    "\n",
    "# Step 1: Create a random vector of size 20 with float values in the range 1-20\n",
    "vector = np.random.uniform(1, 20, size=20)\n",
    "\n",
    "# Step 2: Reshape the vector to a 4x5 matrix\n",
    "matrix = vector.reshape(4, 5)\n",
    "\n",
    "# Step 3: Replace the maximum value in each row with 0\n",
    "# Find the index of the maximum value in each row\n",
    "max_indices = np.argmax(matrix, axis=1)\n",
    "\n",
    "# Create an array of zeros with the same shape as matrix\n",
    "result = np.copy(matrix)\n",
    "\n",
    "# Replace the maximum values with 0 using advanced indexing\n",
    "result[np.arange(matrix.shape[0]), max_indices] = 0\n",
    "\n",
    "# Print the original matrix and the result\n",
    "print(\"Original Matrix:\\n\", matrix)\n",
    "print(\"Result Matrix (with max values replaced by 0):\\n\", result)\n"
   ]
  },
  {
   "cell_type": "code",
   "execution_count": null,
   "id": "d6e7979d-2da6-4948-a936-3ce119463132",
   "metadata": {},
   "outputs": [],
   "source": []
  }
 ],
 "metadata": {
  "kernelspec": {
   "display_name": "Python 3 (ipykernel)",
   "language": "python",
   "name": "python3"
  },
  "language_info": {
   "codemirror_mode": {
    "name": "ipython",
    "version": 3
   },
   "file_extension": ".py",
   "mimetype": "text/x-python",
   "name": "python",
   "nbconvert_exporter": "python",
   "pygments_lexer": "ipython3",
   "version": "3.12.4"
  }
 },
 "nbformat": 4,
 "nbformat_minor": 5
}
